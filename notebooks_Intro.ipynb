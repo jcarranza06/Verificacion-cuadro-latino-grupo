{
  "metadata": {
    "toc-autonumbering": true,
    "toc-showmarkdowntxt": true,
    "kernelspec": {
      "name": "python",
      "display_name": "Python (Pyodide)",
      "language": "python"
    },
    "language_info": {
      "codemirror_mode": {
        "name": "python",
        "version": 3
      },
      "file_extension": ".py",
      "mimetype": "text/x-python",
      "name": "python",
      "nbconvert_exporter": "python",
      "pygments_lexer": "ipython3",
      "version": "3.8"
    }
  },
  "nbformat_minor": 5,
  "nbformat": 4,
  "cells": [
    {
      "cell_type": "code",
      "source": "<h2> purebas <h2> ",
      "metadata": {
        "tags": []
      },
      "execution_count": null,
      "outputs": [],
      "id": "9aaada6a-ab51-4870-bebe-f7f899f1ebaa"
    },
    {
      "cell_type": "code",
      "source": "\"\"\" matriz = [[0,'a','b','c','d'], ##no es latino ni grupo\n          ['a','a','b','c','d'],\n          ['b','c','d','d','d'],\n          ['c','a','b','d','c'],\n          ['d','d','a','c','b']] \"\"\"\n\n\"\"\" matriz = [[0,'e','a','b','c'], ## es grupo\n          ['e','e','a','b','c'],\n          ['a','a','e','c','b'],\n          ['b','b','c','e','a'],\n          ['c','c','b','a','e']] \"\"\"\n\n\"\"\"matriz = [[0,'1','i','-1','-i'], ## es grupo\n          ['1','1','i','-1','-i'],\n          ['i','i','-1','-i','1'],\n          ['-1','-1','-i','1','i'],\n          ['-i','-i','1','i','-1']] \"\"\"\n\nmatriz = [[  0,'e','g1','g2','g3','g4','g5'], ##es latino pero no grupo\n          ['e','e','g1','g2','g3','g4','g5'],\n          ['g1','g1','e','g3','g4','g5','g2'],\n          ['g2','g2','g3','e','g5','g1','g4'],\n          ['g3','g3','g4','g5','e','g2','g1'],\n          ['g4','g4','g5','g1','g2','e','g3'],\n          ['g5','g5','g2','g4','g1','g3','e']] ",
      "metadata": {
        "tags": [],
        "trusted": true
      },
      "execution_count": 2,
      "outputs": [],
      "id": "29472af5-54d1-48c4-8dc6-3f954762af05"
    },
    {
      "cell_type": "code",
      "source": "<h2> Funciones <h2>",
      "metadata": {},
      "execution_count": null,
      "outputs": [],
      "id": "d051b4a3-2286-40ee-8bf0-0d62ed9ae41a"
    },
    {
      "cell_type": "code",
      "source": "<h3>Ordenar y limpiar  la matriz<h3>",
      "metadata": {},
      "execution_count": null,
      "outputs": [],
      "id": "e71c6dba-781d-424b-b318-e956a5915154"
    },
    {
      "cell_type": "code",
      "source": "def crearConjunto(mat): ## se crea el conjunto de todos los elementos de la tabla a partir de la primera fila\n    set={}\n    for i in range (1,len(mat[0])):\n        set.setdefault(mat[0][i], False)\n    return set\n\ndef verificarFormato(mat): ## se verifica tamaño de cada filas, se verifica que sea cuadrada\n    size=len(mat)\n    for i in range(1, len(mat)):\n        if(len(mat[i])!=size):\n            return False\n    return True\n\ndef buscarElementoEnPColumna(a, mat): ## se busca la fila con cabecera 'a' de la matriz 'mat'\n    for i in range(1, len(mat)):\n        if(mat[i][0]==a):\n            return i\n    raise NameError('Tabla invalida')\n\ndef switchear(i, index, mat):\n    last = mat[index]\n    mat[index]= mat[i]\n    mat[i]=last\n\ndef ordenarMatriz(mat):\n    for i in range(1, len(mat)):\n        if(mat[0][i]!=mat[i][0]):\n            index = buscarElementoEnPColumna(mat[0][i],mat)\n            switchear(i, index, mat)\n    return mat",
      "metadata": {},
      "execution_count": null,
      "outputs": [],
      "id": "3e9effdb-d599-4d32-8bc5-53a060d0b074"
    },
    {
      "cell_type": "code",
      "source": "<h3>Funciones para verificar sí es latino<h3>",
      "metadata": {},
      "execution_count": null,
      "outputs": [],
      "id": "63c0a7d2-52b8-442c-aeb6-0ea59c2ad2f9"
    },
    {
      "cell_type": "code",
      "source": "## se verifica por cada fila sí el elemento ya apareció una vez, \n## sí algun elemento no aparece ninguna vez es porque otro elemento se está repitiendo o\n## algún elemento que no pertenece al conjunto está en la tabla  \ndef verificarFilas(mat,set): \n    try:\n        for i in range(1, len(mat)):\n            for j in range(1, len(mat[i])):\n                ##print(mat[i][j],\" \",set[mat[i][j]])\n                if(set[mat[i][j]]== True):\n                    return False\n                set[mat[i][j]]= True\n            for i in set:\n                set[i]=[False, 0]\n        return True\n    except:\n        return False\n\n## se verifica por cada columna sí el elemento ya apareció una vez, \n## sí algun elemento no aparece ninguna vez es porque otro elemento se está repitiendo o\n## algún elemento que no pertenece al conjunto está en la tabla\ndef verificarColumnas(mat, set):\n    try:\n        for j in range(1, len(mat)):\n            for i in range(1, len(mat[j])):\n                ##print(mat[i][j],\" \",set[mat[i][j]])\n                if(set[mat[i][j]]== True):\n                    return False\n                set[mat[i][j]]= True\n            for i in set:\n                set[i]=[False, 0]\n        return True\n    except:\n        return False\n\ndef verificarLatino(mat, set):## se verifican filas y columnas\n    cumpleFila = verificarFilas(mat, set)\n    cumpleColumna = verificarColumnas(mat, set)\n    return cumpleFila and cumpleColumna",
      "metadata": {},
      "execution_count": null,
      "outputs": [],
      "id": "2dca3dc5-c05b-41f8-9bad-69ee305df3ff"
    },
    {
      "cell_type": "code",
      "source": "<h3>Funciones para el elemento neutro <h3>",
      "metadata": {},
      "execution_count": null,
      "outputs": [],
      "id": "61487f55-2b0b-4b85-92dd-fb203155ea7f"
    },
    {
      "cell_type": "code",
      "source": "## se busca el elemento neutro, dado que la matriz se ordenó \n## poniendo los elemntos del conjunto en el mismo orden en fila y columna, \n## solo hace falta revisar la diagonal principal\ndef buscarNeutro(mat): \n    for i in range(1, len(mat)):\n        if(mat[0][i]==mat[i][i] and mat[i][0]==mat[i][i]):\n            return [mat[i][i], i] ## se devuelve un vector con el [0] el caracter neutro y [1] el indice de ese elemento en la cabecera\n    return False \n\n## se verifica que todos los elementos de la columna del elemento neutro tengan como resultado a sí mismos\ndef verificarNeutro(neutro, mat):\n    for i in range(1, len(mat)):\n        if(mat[i][0]!=mat[i][neutro[1]]):\n            return False\n    return True",
      "metadata": {},
      "execution_count": null,
      "outputs": [],
      "id": "60988923-a985-4017-868b-2627e367d8ca"
    },
    {
      "cell_type": "code",
      "source": "<h3>Verificación de la asociatividad <h3>",
      "metadata": {},
      "execution_count": null,
      "outputs": [],
      "id": "5689031f-d423-4319-8c00-ee318df4e780"
    },
    {
      "cell_type": "code",
      "source": "## se verifica con todas las triplas posibles (a*b)*c = a*(b*c), es O(n3)\n## cada elemento se convierte en un indice del conjunto para operar más rapidamente\ndef verificarAsociatividad(mat): \n    conjunto = []\n    dic = {}\n\n    for i in range(1,len(mat[0])):\n        conjunto.append(mat[0][i])\n        dic.setdefault(mat[0][i], i)\n    for i in range(1,len(mat)):\n        for j in range(1, len(mat[i])):\n            mat[i][j]=dic[mat[i][j]]\n\n    for i in range(1, len(conjunto)+1):\n        for j in range(1, len(conjunto)+1):\n            for k in range(1, len(conjunto)+1):\n                if(mat[mat[i][j]][k]!=mat[i][mat[j][k]]):\n                    return False\n    return True         ",
      "metadata": {},
      "execution_count": null,
      "outputs": [],
      "id": "d895d978-5e41-46c8-9117-a9901cbe4882"
    },
    {
      "cell_type": "code",
      "source": "<h2>Ejecución del programa<h2>",
      "metadata": {},
      "execution_count": null,
      "outputs": [],
      "id": "8475dfc0-c7ad-490b-aded-fd67af560e7e"
    },
    {
      "cell_type": "code",
      "source": "set = crearConjunto(matriz) ## se define el conjunto en base a el header de la tabla \ntieneFormato = verificarFormato(matriz) ## se verifica que sea cuadrada\n\nif(tieneFormato):\n    matriz = ordenarMatriz(matriz) ## se ordena para que cada elemento m[i][0] corresponda a cada m[0][i]\n    esLatino = verificarLatino(matriz, set) ##se verifican filas y columnas, tambien que cada elemnto aparezca una sola vez y que sea una operación cerrada\n    neutro = buscarNeutro(matriz) ## dado que se ordenó la matriz, el neutro debe estar en algun punto de la diagonal\n    todosCumplenNeutro = verificarNeutro(neutro, matriz) ##no es del todo necesario ya que anteriormente se comprobo que todos deben tener neutro\n    esAsociativo = verificarAsociatividad(matriz)\n    ##print(esLatino, todosCumplenNeutro, neutro, esAsociativo)\n    if(esLatino):\n        print(\"es Cuadro Latino ni grupo\")\n        if(esAsociativo and todosCumplenNeutro):\n            print(\"es grupo\")\n        else: \n            print(\"no es grupo\")\n    else:\n        print(\"no es Latino\")\nelse:\n    print('tabla invalida')",
      "metadata": {},
      "execution_count": null,
      "outputs": [],
      "id": "19318b51-7b93-4224-b5c5-a4fe8e80d624"
    }
  ]
}